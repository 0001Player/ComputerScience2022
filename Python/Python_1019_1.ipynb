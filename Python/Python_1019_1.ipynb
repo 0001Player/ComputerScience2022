{
  "nbformat": 4,
  "nbformat_minor": 0,
  "metadata": {
    "colab": {
      "provenance": [],
      "collapsed_sections": []
    },
    "kernelspec": {
      "name": "python3",
      "display_name": "Python 3"
    },
    "language_info": {
      "name": "python"
    }
  },
  "cells": [
    {
      "cell_type": "markdown",
      "source": [
        "# 1019 A888168\n",
        "\n",
        "Python Conditions and If statements\n"
      ],
      "metadata": {
        "id": "rjT84T3jr3Ei"
      }
    },
    {
      "cell_type": "markdown",
      "source": [
        "Exercise 1 : Print \"Hello Python\" if a is greater than b."
      ],
      "metadata": {
        "id": "v7DI4qUZsGpa"
      }
    },
    {
      "cell_type": "code",
      "execution_count": 1,
      "metadata": {
        "colab": {
          "base_uri": "https://localhost:8080/"
        },
        "id": "0v8ZCYbHr13p",
        "outputId": "96e66622-e634-46b5-f6a6-53840ba3ac49"
      },
      "outputs": [
        {
          "output_type": "stream",
          "name": "stdout",
          "text": [
            "Hello Python\n"
          ]
        }
      ],
      "source": [
        "a = 13\n",
        "b = 8\n",
        "\n",
        "if a > b:\n",
        "  print(\"Hello Python\")"
      ]
    },
    {
      "cell_type": "markdown",
      "source": [],
      "metadata": {
        "id": "z8A05R0lsnma"
      }
    }
  ]
}