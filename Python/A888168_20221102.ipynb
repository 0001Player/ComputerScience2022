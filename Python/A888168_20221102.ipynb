{
  "nbformat": 4,
  "nbformat_minor": 0,
  "metadata": {
    "colab": {
      "provenance": [],
      "collapsed_sections": []
    },
    "kernelspec": {
      "name": "python3",
      "display_name": "Python 3"
    },
    "language_info": {
      "name": "python"
    }
  },
  "cells": [
    {
      "cell_type": "markdown",
      "source": [
        "# 1102 Test"
      ],
      "metadata": {
        "id": "qF_3XymVtiKa"
      }
    },
    {
      "cell_type": "markdown",
      "source": [
        "## multiple choice"
      ],
      "metadata": {
        "id": "Z_ZUQ3ustnvr"
      }
    },
    {
      "cell_type": "markdown",
      "source": [
        "## 1. \n",
        "```\n",
        "Which following is the correct way to create a dictionary in Python?\n",
        "   (A) students = { 'name' => 'alice' ;  'score' =>60 }\n",
        "   (B) students = { 'name' = 'alice' ;  'score' =60 }\n",
        "   (C) students = { 'name' : 'alice' ;  'score' : 60 }\n",
        "   (D) students = { 'name' => 'alice' ,  'score' =>60 }\n",
        "   (E) students = { 'name' : 'alice' , 'score' : 60 }\n",
        "```  \n",
        "\n",
        "C\n",
        "\n"
      ],
      "metadata": {
        "id": "ygGXiQqfstWD"
      }
    },
    {
      "cell_type": "markdown",
      "source": [
        "## 2\n",
        "```\n",
        "What does the following Python program fragment do?\n",
        "   s=0\n",
        "   for i in range (3 , 10) :\n",
        "        s+=i\n",
        "   print (s)\n",
        "   (A) Calculate the sum of 1+2+…+10\n",
        "   (B) Calculate the sum of 1+4+7+10\n",
        "   (C) Calculate the sum of 3+4+5+6+…+9\n",
        "   (D) Calculate the sum of 3+4+5+6+…+10\n",
        "   (E) Calculate the sum of 0+2+4+6+…+10\n",
        "```"
      ],
      "metadata": {
        "id": "fhKJw6-Zs7Gz"
      }
    },
    {
      "cell_type": "markdown",
      "source": [
        "ANSWERS:\n",
        "\n",
        "range(3,10) ==> 3,4,5,6,7,8,9"
      ],
      "metadata": {
        "id": "FmJ3iPa-tJ_y"
      }
    },
    {
      "cell_type": "code",
      "source": [
        "3+4+5+6+7+8+9"
      ],
      "metadata": {
        "colab": {
          "base_uri": "https://localhost:8080/"
        },
        "id": "yFf8hzJKtTiJ",
        "outputId": "78c9a81d-0096-49b2-9a4e-915d7991d8e0"
      },
      "execution_count": 2,
      "outputs": [
        {
          "output_type": "execute_result",
          "data": {
            "text/plain": [
              "42"
            ]
          },
          "metadata": {},
          "execution_count": 2
        }
      ]
    },
    {
      "cell_type": "code",
      "source": [
        "s=0\n",
        "for i in range (3 , 10) :\n",
        "  s+=i\n",
        "\n",
        "print (s)"
      ],
      "metadata": {
        "colab": {
          "base_uri": "https://localhost:8080/"
        },
        "id": "dOdfDB2ntC09",
        "outputId": "20fac5f4-a0d6-4a71-f29d-9ee5d7077a1b"
      },
      "execution_count": 1,
      "outputs": [
        {
          "output_type": "stream",
          "name": "stdout",
          "text": [
            "42\n"
          ]
        }
      ]
    },
    {
      "cell_type": "markdown",
      "source": [
        "## B"
      ],
      "metadata": {
        "id": "ZhqL9yiQuFYS"
      }
    },
    {
      "cell_type": "markdown",
      "source": [
        "### B1.\n",
        "\n",
        "```\n",
        "cubes = [x**3 for x in range(1,6)]\n",
        "print(cubes)\n",
        "```"
      ],
      "metadata": {
        "id": "-1_Zhzd-uGb5"
      }
    },
    {
      "cell_type": "markdown",
      "source": [
        "ANSWER:\n",
        "\n",
        "range(1,6) == > 1,2,3,4,5\n",
        "```\n",
        "[x**3 for x in range(1,6)] ==> [1**3 , 2**3 , ...., 5**3] \n",
        "```"
      ],
      "metadata": {
        "id": "qnxZvra7uQVx"
      }
    },
    {
      "cell_type": "code",
      "source": [
        "cubes = [x**3 for x in range(1,6)]\n",
        "print(cubes)"
      ],
      "metadata": {
        "colab": {
          "base_uri": "https://localhost:8080/"
        },
        "id": "PYry0YikunNR",
        "outputId": "a2215fc5-519e-430a-c213-a2c65fa0f93d"
      },
      "execution_count": 4,
      "outputs": [
        {
          "output_type": "stream",
          "name": "stdout",
          "text": [
            "[1, 8, 27, 64, 125]\n"
          ]
        }
      ]
    },
    {
      "cell_type": "code",
      "source": [
        "2**3"
      ],
      "metadata": {
        "colab": {
          "base_uri": "https://localhost:8080/"
        },
        "id": "ZHa01nh6uM_7",
        "outputId": "79ad37a7-171f-4508-ac7c-0906d8638c64"
      },
      "execution_count": 3,
      "outputs": [
        {
          "output_type": "execute_result",
          "data": {
            "text/plain": [
              "8"
            ]
          },
          "metadata": {},
          "execution_count": 3
        }
      ]
    },
    {
      "cell_type": "markdown",
      "source": [
        "# C.Programming Python\n",
        "```python\n",
        "The Fibonacci numbers may be defined by the recurrence relation\n",
        " F_{0}=0, F_{1}=1\n",
        "and\n",
        "F_{n} = F_{n-1} + F_{n-2}   for n > 1.\n",
        "\n",
        "0,1,1,2,3,5,8,......\n",
        "\n",
        "Under some older definitions, the value  F_{0}=0 is omitted, \n",
        "so that the sequence starts with F_{1}=F_{2}=1 and \n",
        "the recurrence F_{n}=F_{n-1}+F_{n-2} is valid for n > 2\n",
        "\n",
        "(1)Write a Python function/Program to Find Fibonacci Numbers using Recursion\n",
        "(2)use iterative Approach To Find the nth Term Of Fibonacci Sequence(You need to write a function using loop)\n",
        "```"
      ],
      "metadata": {
        "id": "2KJ4-1bkvMKZ"
      }
    }
  ]
}